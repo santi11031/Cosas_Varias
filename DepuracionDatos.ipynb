{
  "cells": [
    {
      "cell_type": "markdown",
      "metadata": {
        "id": "view-in-github",
        "colab_type": "text"
      },
      "source": [
        "<a href=\"https://colab.research.google.com/github/santi11031/Cosas_Varias/blob/main/DepuracionDatos.ipynb\" target=\"_parent\"><img src=\"https://colab.research.google.com/assets/colab-badge.svg\" alt=\"Open In Colab\"/></a>"
      ]
    },
    {
      "cell_type": "code",
      "execution_count": 121,
      "id": "89c2f52f-f646-45af-9459-bd674ab7f256",
      "metadata": {
        "id": "89c2f52f-f646-45af-9459-bd674ab7f256"
      },
      "outputs": [],
      "source": [
        "import pandas as pd\n",
        "import os\n",
        "import numpy as np\n",
        "import openpyxl"
      ]
    },
    {
      "cell_type": "code",
      "source": [
        "from google.colab import drive\n",
        "drive.mount('/content/drive')"
      ],
      "metadata": {
        "colab": {
          "base_uri": "https://localhost:8080/"
        },
        "id": "9bAaj0nclDrZ",
        "outputId": "3ba9e277-446c-4dc0-e500-f131d614ccdf"
      },
      "id": "9bAaj0nclDrZ",
      "execution_count": 2,
      "outputs": [
        {
          "output_type": "stream",
          "name": "stdout",
          "text": [
            "Mounted at /content/drive\n"
          ]
        }
      ]
    },
    {
      "cell_type": "code",
      "execution_count": 3,
      "id": "b5cc9a91-76a9-4921-b9a0-7848ff084a7d",
      "metadata": {
        "id": "b5cc9a91-76a9-4921-b9a0-7848ff084a7d"
      },
      "outputs": [],
      "source": [
        "RutaCTE_Centro='/content/drive/MyDrive/Total/Total/CTE CENTRO'\n",
        "RutaCTE_NOROCCI='/content/drive/MyDrive/Total/Total/CTE_NOROCCI'\n",
        "RUTA_ORIENTE= '/content/drive/MyDrive/Total/Total/CTE ORIENTE'\n",
        "RUTA_SUROCCI= '/content/drive/MyDrive/Total/Total/CTE SUROCCIDENTE'"
      ]
    },
    {
      "cell_type": "markdown",
      "source": [
        "# Depuración datos Centro"
      ],
      "metadata": {
        "id": "ZaRGB5KiMtKZ"
      },
      "id": "ZaRGB5KiMtKZ"
    },
    {
      "cell_type": "code",
      "execution_count": null,
      "id": "396dd240-7844-4234-a27c-0d48400b0518",
      "metadata": {
        "id": "396dd240-7844-4234-a27c-0d48400b0518"
      },
      "outputs": [],
      "source": [
        "DataFramesCentro=[]\n",
        "for Item in os.listdir(RutaCTE_Centro):\n",
        "  if Item.endswith('.xlsm'):\n",
        "    RutaArchivo=os.path.join(RutaCTE_Centro, Item)\n",
        "\n",
        "    Datos=pd.read_excel(RutaArchivo, sheet_name='TBL_TORRE')\n",
        "    Datos.dropna()\n",
        "    Datos=Datos.iloc[5:,0:]\n",
        "\n",
        "    DataFramesCentro.append(Datos)\n"
      ]
    },
    {
      "cell_type": "code",
      "source": [
        "Datos1.to_csv('/content/drive/MyDrive/Total/Total/CTE CENTRO/Centro.csv')"
      ],
      "metadata": {
        "id": "EXZ0sVmx0RIs"
      },
      "id": "EXZ0sVmx0RIs",
      "execution_count": 117,
      "outputs": []
    },
    {
      "cell_type": "code",
      "source": [
        "df=[]\n",
        "for i in DataFramesCentro:\n",
        "\n",
        "  Archivo=pd.DataFrame(i)\n",
        "  df.append(Archivo)\n"
      ],
      "metadata": {
        "id": "A0YJuMvDOwQF"
      },
      "id": "A0YJuMvDOwQF",
      "execution_count": 111,
      "outputs": []
    },
    {
      "cell_type": "code",
      "source": [
        "Datos1=pd.concat(df, ignore_index=True, axis=0, join='inner',keys='Unnamed: 0')"
      ],
      "metadata": {
        "id": "BzuZlJeZbhCI"
      },
      "id": "BzuZlJeZbhCI",
      "execution_count": 112,
      "outputs": []
    },
    {
      "cell_type": "code",
      "source": [
        "Datos1= Datos1.dropna(subset='Unnamed: 1')"
      ],
      "metadata": {
        "id": "pBYXK0e_n7QQ"
      },
      "id": "pBYXK0e_n7QQ",
      "execution_count": 114,
      "outputs": []
    },
    {
      "cell_type": "code",
      "source": [
        "Datos1.shape\n"
      ],
      "metadata": {
        "colab": {
          "base_uri": "https://localhost:8080/"
        },
        "id": "UntWm7lTFaBn",
        "outputId": "977bdf9d-39f8-434a-b7e0-48003fbb4092"
      },
      "id": "UntWm7lTFaBn",
      "execution_count": 115,
      "outputs": [
        {
          "output_type": "execute_result",
          "data": {
            "text/plain": [
              "(1483, 163)"
            ]
          },
          "metadata": {},
          "execution_count": 115
        }
      ]
    },
    {
      "cell_type": "markdown",
      "source": [
        "# Depuración Datos Noroccidente"
      ],
      "metadata": {
        "id": "jG8879USaVjj"
      },
      "id": "jG8879USaVjj"
    },
    {
      "cell_type": "code",
      "source": [
        "\n",
        "DatosVerificacion = []\n",
        "\n",
        "for Item in os.listdir(RutaCTE_NOROCCI):\n",
        "    if Item.endswith('.xlsm'):\n",
        "        Datos = os.path.join(RutaCTE_NOROCCI, Item)\n",
        "        DatosVerificacion.append(Datos)\n",
        "\n",
        "for Numero, Archivo in enumerate(DatosVerificacion):\n",
        "    Torre = 'TBL_TORRE'\n",
        "    try:\n",
        "        Libro = openpyxl.load_workbook(Archivo)\n",
        "\n",
        "        if Torre not in Libro.sheetnames:\n",
        "            print(f'({Numero + 1}) La hoja {Torre} no existe en {Archivo}')\n",
        "        else:\n",
        "            print(f'({Numero + 1}) La hoja {Torre} existe en {Archivo}')\n",
        "\n",
        "    except FileNotFoundError:\n",
        "        print(f'({Numero + 1}) No se encontró el archivo: {Archivo}')\n",
        "    except Exception as e:\n",
        "        print(f'({Numero + 1}) Error al abrir el archivo {Archivo}: {str(e)}')\n"
      ],
      "metadata": {
        "colab": {
          "base_uri": "https://localhost:8080/"
        },
        "id": "QpJMykmjw3v4",
        "outputId": "7d048c22-1f8e-4508-a22f-dac0d7f9af49"
      },
      "id": "QpJMykmjw3v4",
      "execution_count": 149,
      "outputs": [
        {
          "output_type": "stream",
          "name": "stderr",
          "text": [
            "Exception ignored in: <function ZipFile.__del__ at 0x7a8bacc1d870>\n",
            "Traceback (most recent call last):\n",
            "  File \"/usr/lib/python3.10/zipfile.py\", line 1821, in __del__\n",
            "    self.close()\n",
            "  File \"/usr/lib/python3.10/zipfile.py\", line 1843, in close\n",
            "    self._fpclose(fp)\n",
            "  File \"/usr/lib/python3.10/zipfile.py\", line 1943, in _fpclose\n",
            "    fp.close()\n",
            "OSError: [Errno 107] Transport endpoint is not connected\n",
            "/usr/local/lib/python3.10/dist-packages/openpyxl/worksheet/_reader.py:329: UserWarning: Data Validation extension is not supported and will be removed\n",
            "  warn(msg)\n"
          ]
        },
        {
          "output_type": "stream",
          "name": "stdout",
          "text": [
            "(1) La hoja TBL_TORRE existe en /content/drive/MyDrive/Total/Total/CTE_NOROCCI/CO-ITCO-ASURSCAR2301-L-01-D9050-V0-Ancón Sur - San Carlos a  230 kV  Circuito 1.xlsm\n",
            "(2) La hoja TBL_TORRE existe en /content/drive/MyDrive/Total/Total/CTE_NOROCCI/CO-ITCO-CERRCHIN5002-L-01-D9050-V0-Cerromatoso Chinú a 500 kV Circuito 2.xlsm\n",
            "(3) La hoja TBL_TORRE existe en /content/drive/MyDrive/Total/Total/CTE_NOROCCI/CO-ITCO-ASURSCAR2302-L-01-D9050-V0-Ancón Sur - San Carlos a  230 kV  Circuito 2.xlsm\n",
            "(4) La hoja TBL_TORRE existe en /content/drive/MyDrive/Total/Total/CTE_NOROCCI/CO-ITCO-BACAPRIM5001-L-01-D9050-V0- Bacatá Primavera  a 500 kV  Circuito 1.xlsm\n",
            "(5) La hoja TBL_TORRE existe en /content/drive/MyDrive/Total/Total/CTE_NOROCCI/CO-ITCO-ASURESME2302-L-01-D9050-V0- Ancón Sur Esmeralda 230 kV  Circuito 2.xlsm\n",
            "(6) La hoja TBL_TORRE existe en /content/drive/MyDrive/Total/Total/CTE_NOROCCI/CO-ITCO-BOLIBOSQ2201-L-01-D9050-V0-Bolivar Bosque a 220 kV  Circuito 1.xlsm\n",
            "(7) La hoja TBL_TORRE existe en /content/drive/MyDrive/Total/Total/CTE_NOROCCI/CO-ITCO-LSIEPURN2302-L-01-D9050-V0- La Sierra - Purnio a 230 kV  Circuito 2.xlsm\n",
            "(8) La hoja TBL_TORRE existe en /content/drive/MyDrive/Total/Total/CTE_NOROCCI/CO-ITCO-JAGUMALE2301-L-01-D9050-V0-Jaguas Malena a 230 kV  Circuito 1.xlsm\n",
            "(9) La hoja TBL_TORRE existe en /content/drive/MyDrive/Total/Total/CTE_NOROCCI/CO-ITCO-GTPEJAGU2302-L-01-D9050-V0-Guatapé Jaguas a 230 kV  Circuito 2.xlsm\n",
            "(10) La hoja TBL_TORRE existe en /content/drive/MyDrive/Total/Total/CTE_NOROCCI/CO-ITCO-CUATCUES2301-L-01-D9050-V0-Cuatricentenario Cuestesitas 230 kV  Circuito 1.xlsm\n",
            "(11) La hoja TBL_TORRE existe en /content/drive/MyDrive/Total/Total/CTE_NOROCCI/CO-ITCO-MALEPRIM2301-L-01-D9050-V0-Malena Primavera a 230 kV  Circuito 1.xlsm\n",
            "(12) La hoja TBL_TORRE existe en /content/drive/MyDrive/Total/Total/CTE_NOROCCI/CO-ITCO-URABURRA2301-L-01-D9050-V0-Urabá Urrá a 230 kV  Circuito 1.xlsm\n",
            "(13) La hoja TBL_TORRE existe en /content/drive/MyDrive/Total/Total/CTE_NOROCCI/CO-ITCO-PLAYPRIM2301-L-01-D9050-V0-Playas - Primavera a  230 kV  Circuito 1.xlsm\n",
            "(14) La hoja TBL_TORRE existe en /content/drive/MyDrive/Total/Total/CTE_NOROCCI/CO-ITCO-GTPEJAGU2301-L-01-D9050-V0- Guatapé - Jaguas a 230 kV  Circuito 1.xlsm\n",
            "(15) La hoja TBL_TORRE existe en /content/drive/MyDrive/Total/Total/CTE_NOROCCI/CO-ITCO-ESMESCAR2302-L-01-D9050-V0-Esmeralda San Carlos 230 kV  Circuito 2.xlsm\n",
            "(16) La hoja TBL_TORRE existe en /content/drive/MyDrive/Total/Total/CTE_NOROCCI/CO-ITCO-LSIESCAR2301-L-01-D9050-V0-La Sierra San Carlos a  230 kV  Circuito 1.xlsm\n",
            "(17) La hoja TBL_TORRE existe en /content/drive/MyDrive/Total/Total/CTE_NOROCCI/CO-ITCO-BOSQTERN2301-L-01-D9050-V0- Bosque Ternera  a 220 kV  Circuito 1.xlsm\n",
            "(18) La hoja TBL_TORRE existe en /content/drive/MyDrive/Total/Total/CTE_NOROCCI/CO-ITCO-LSIEPURN2301-L-01-D9050-V0- La Sierra - Purnio a 230 kV  Circuito 1.xlsm\n",
            "(19) La hoja TBL_TORRE existe en /content/drive/MyDrive/Total/Total/CTE_NOROCCI/CO-ITCO-BOLICOPE_5001-L-01-D9050-V0- Bolivar Copey a 500 kV  Circuito 1.xlsm\n",
            "(20) La hoja TBL_TORRE existe en /content/drive/MyDrive/Total/Total/CTE_NOROCCI/CO-ITCO-BOLISABA2301-L-01-D9050-V0-Bolivar Sabanalarga a 230 kV  Circuito 1.xlsm\n",
            "(21) La hoja TBL_TORRE existe en /content/drive/MyDrive/Total/Total/CTE_NOROCCI/CO-ITCO-BOLITCAR2301-L-01-D9050-V0-Bolivar Termocartagena  230 kV  Circuito 1.xlsm\n",
            "(22) La hoja TBL_TORRE existe en /content/drive/MyDrive/Total/Total/CTE_NOROCCI/CO-ITCO-GTPESCAR2301-L-01-D9050-V0-Guatapé San Carlos 230 kV  Circuito 1.xlsm\n",
            "(23) La hoja TBL_TORRE existe en /content/drive/MyDrive/Total/Total/CTE_NOROCCI/CO-ITCO-GTPESCAR2302-L-01-D9050-V0-Guatapé San Carlos 230 kV  Circuito 2.xlsm\n",
            "(24) La hoja TBL_TORRE existe en /content/drive/MyDrive/Total/Total/CTE_NOROCCI/CO-ITCO-CHINSABA5001-L-01-D9050-V0-Chinú Sabanalarga a 500 kV  Circuito 1.xlsm\n",
            "(25) La hoja TBL_TORRE existe en /content/drive/MyDrive/Total/Total/CTE_NOROCCI/CO-ITCO-PURNSCAR2301-L-01-D9050-V0-Purnio San Carlos  a 230 kV  Circuito 1.xlsm\n",
            "(26) La hoja TBL_TORRE existe en /content/drive/MyDrive/Total/Total/CTE_NOROCCI/CO-ITCO-PURNSCAR2302-L-01-D9050-V0-Purnio San Carlos  a 230 kV  Circuito 2.xlsm\n",
            "(27) La hoja TBL_TORRE existe en /content/drive/MyDrive/Total/Total/CTE_NOROCCI/CO-ITCO-PRIMSCAR5001-L-01-D9050-V0-Primavera San Carlos a 500 kV  Circuito 1.xlsm\n",
            "(28) La hoja TBL_TORRE existe en /content/drive/MyDrive/Total/Total/CTE_NOROCCI/CO-ITCO-CERRPORC5001-L-01-D9050-V0-Cerromatoso Porce a 500 kV  Circuito 1.xlsm\n",
            "(29) La hoja TBL_TORRE existe en /content/drive/MyDrive/Total/Total/CTE_NOROCCI/CO-ITCO-PORCSCAR5001-L-01-D9050-V0- Porce a San Carlos a 500 kV  Circuito 1.xlsm\n",
            "(30) La hoja TBL_TORRE existe en /content/drive/MyDrive/Total/Total/CTE_NOROCCI/CO-ITCO-CCOLTEBS2201-L-01-D9050-V0- Caracolí - Tebsa a 220 kV  Circuito 1.xlsm\n",
            "(31) La hoja TBL_TORRE existe en /content/drive/MyDrive/Total/Total/CTE_NOROCCI/CO-ITCO-CCOLSABA2201-L-01-D9050-V0-Caracoli Sabanalarga a 230 kV Circuito 1.xlsm\n",
            "(32) La hoja TBL_TORRE existe en /content/drive/MyDrive/Total/Total/CTE_NOROCCI/CO-ITCO-CCOLTFLO2201-L-01-D9050-V0-Caracoli Termoflores II a 230 kV Circuito 1.xlsm\n",
            "(33) La hoja TBL_TORRE existe en /content/drive/MyDrive/Total/Total/CTE_NOROCCI/CO-ITCO-CERRGECE1101-L-01-D9050-V0-Cerromatoso Gecelca 3.2 a 110 kV Circuito 1.xlsm\n",
            "(34) La hoja TBL_TORRE existe en /content/drive/MyDrive/Total/Total/CTE_NOROCCI/CO-ITCO-CERRPRIM5001-L-01-D9050-V0- Cerromatoso Primavera a 500 kV  Circuito 1.xlsm\n",
            "(35) La hoja TBL_TORRE existe en /content/drive/MyDrive/Total/Total/CTE_NOROCCI/CO-ITCO-CHINMRIA2301-L-01-D9050-V0-Chinú Montería a 230 kV Circuito 1.xlsm\n",
            "(36) La hoja TBL_TORRE existe en /content/drive/MyDrive/Total/Total/CTE_NOROCCI/CO-ITCO-CCOLSAUX0131-L-01-D9050-V0-Tramo Caracolí Ser. Aux a 13.2 kV Circuito 1.xlsm\n",
            "(37) La hoja TBL_TORRE existe en /content/drive/MyDrive/Total/Total/CTE_NOROCCI/CO-ITCO-COPEVALLE2202-D9050-V0-Copey Valledupar a 220 kV  Circuito 2.xlsm\n",
            "(38) La hoja TBL_TORRE existe en /content/drive/MyDrive/Total/Total/CTE_NOROCCI/CO-ITCO-ESMESCAR2301-L-01-D9050-V0-Esmeralda San Carlos 230 kV  Circuito 1.xlsm\n",
            "(39) La hoja TBL_TORRE existe en /content/drive/MyDrive/Total/Total/CTE_NOROCCI/CO-ITCO-CERRURRA2301-L-01-D9050-V0-Cerromatoso Urrá a 230 kV  Circuito 1.xlsm\n",
            "(40) La hoja TBL_TORRE existe en /content/drive/MyDrive/Total/Total/CTE_NOROCCI/CO-ITCO-ANTICERR5002-L-01-D9050-V0-Antioquia Cerromatoso a 500 kV  Circuito 2.xlsm\n",
            "(41) La hoja TBL_TORRE existe en /content/drive/MyDrive/Total/Total/CTE_NOROCCI/CO-ITCO-ANTICERR5001-L-01-D9050-V0-Antioquia Cerromatoso a 500 kV  Circuito 1.xlsm\n",
            "(42) La hoja TBL_TORRE existe en /content/drive/MyDrive/Total/Total/CTE_NOROCCI/CO-ITCO-ANTIMEDE5001-L-01-D9050-V0-Antioquia Medellín a 500 kV Circuito 1.xlsm\n",
            "(43) La hoja TBL_TORRE existe en /content/drive/MyDrive/Total/Total/CTE_NOROCCI/CO-ITCO-MEDEOCCI2301-L-01-D9050-V0-Medellín Occidente a 230 kV Circuito 1.xlsm\n",
            "(44) La hoja TBL_TORRE existe en /content/drive/MyDrive/Total/Total/CTE_NOROCCI/CO-ITCO-MEDEANCO2301-L-01-D9050-V0-Medellín Ancón Sur EPM a 230 kV Circuito 1.xlsm\n",
            "(45) La hoja TBL_TORRE existe en /content/drive/MyDrive/Total/Total/CTE_NOROCCI/CO-ITCO-ANCOMEDE2302-L-01-D9050-V0-Ancón Sur EPM Medellín a 230 kV  Circuito 2.xlsm\n",
            "(46) La hoja TBL_TORRE existe en /content/drive/MyDrive/Total/Total/CTE_NOROCCI/CO-ITCO-CERRURRA2302-L-01-D9050-V0-Cerromatoso Urrá a 230 kV  Circuito 2.xlsm\n",
            "(47) La hoja TBL_TORRE existe en /content/drive/MyDrive/Total/Total/CTE_NOROCCI/CO-ITCO-CHINSABA5002-L-01-D9050-V0-Chinú Sabanalarga a 500 kV  Circuito 2.xlsm\n",
            "(48) La hoja TBL_TORRE existe en /content/drive/MyDrive/Total/Total/CTE_NOROCCI/CO-ITCO-CERRCHIN5003-L-01-D9050-V0-Cerromatoso Chinú a 500 kV Circuito 3.xlsm\n",
            "(49) La hoja TBL_TORRE existe en /content/drive/MyDrive/Total/Total/CTE_NOROCCI/CO-ITCO-CHINSAHA5001-L-01-D9050-V0- Chinú Sahagun a 500 kV Circuito 1.xlsm\n",
            "(50) La hoja TBL_TORRE existe en /content/drive/MyDrive/Total/Total/CTE_NOROCCI/CO-ITCO-CERRSAHA5001-L-01-D9050-V0-Cerromatoso Sahagun a 500 kV Circuito 1.xlsm\n",
            "(51) La hoja TBL_TORRE existe en /content/drive/MyDrive/Total/Total/CTE_NOROCCI/CO-ITCO-CERRCHIN5001-L-01-D9050-V0-Cerromatoso Chinú a 500 kV Circuito 1.xlsm\n",
            "(52) La hoja TBL_TORRE existe en /content/drive/MyDrive/Total/Total/CTE_NOROCCI/CO-ITCO-MRIASAUX0131-L-01-D9050-V0-Tramo Montería Ser. Aux a 13.2 kV Circuito 1.xlsm\n",
            "(53) La hoja TBL_TORRE no existe en /content/drive/MyDrive/Total/Total/CTE_NOROCCI/CO-ITCO-CHINCOPE5001-L-01-D9050-V0-Chinú Copey Circuito 1.xlsm\n",
            "(54) La hoja TBL_TORRE existe en /content/drive/MyDrive/Total/Total/CTE_NOROCCI/CO-ITCO-MALEPRIM2301-L-01-D9050-V1-Malena Primavera a 230 kV  Circuito 1.xlsm\n",
            "(55) La hoja TBL_TORRE existe en /content/drive/MyDrive/Total/Total/CTE_NOROCCI/CO-ITCO-ASURESME2301-L-01-D9050-V0- Ancón Sur Esmeralda 230 kV  Circuito 1.xlsm\n",
            "(56) La hoja TBL_TORRE existe en /content/drive/MyDrive/Total/Total/CTE_NOROCCI/CO-ITCO-MRIAURAB2301-L-01-D9050-V0-Montería Urabá a 230 kV Circuito 1.xlsm\n"
          ]
        }
      ]
    },
    {
      "cell_type": "code",
      "source": [
        "DataFramesNorocci=[]\n",
        "for Item in os.listdir(RutaCTE_NOROCCI):\n",
        "  if Item.endswith('.xlsm'):\n",
        "    RutaArchivo=os.path.join(RutaCTE_NOROCCI, Item)\n",
        "\n",
        "    if RutaArchivo=='/content/drive/MyDrive/Total/Total/CTE_NOROCCI/CO-ITCO-CHINCOPE5001-L-01-D9050-V0-Chinú Copey Circuito 1.xlsm':\n",
        "      break\n",
        "\n",
        "    else:\n",
        "      Datos=pd.read_excel(RutaArchivo, sheet_name='TBL_TORRE')\n",
        "      Datos.dropna()\n",
        "      Datos=Datos.iloc[4:,0:]\n",
        "\n",
        "    DataFramesNorocci.append(Datos)\n",
        "\n",
        "\n",
        "\n",
        "\n",
        "\n"
      ],
      "metadata": {
        "colab": {
          "base_uri": "https://localhost:8080/"
        },
        "id": "jXrQbnaGaZ4w",
        "outputId": "72c07c65-96cd-4609-cd5a-224fd11c49f8"
      },
      "id": "jXrQbnaGaZ4w",
      "execution_count": 152,
      "outputs": [
        {
          "output_type": "stream",
          "name": "stderr",
          "text": [
            "/usr/local/lib/python3.10/dist-packages/openpyxl/worksheet/_reader.py:329: UserWarning: Data Validation extension is not supported and will be removed\n",
            "  warn(msg)\n",
            "/usr/local/lib/python3.10/dist-packages/openpyxl/worksheet/_reader.py:329: UserWarning: Data Validation extension is not supported and will be removed\n",
            "  warn(msg)\n",
            "/usr/local/lib/python3.10/dist-packages/openpyxl/worksheet/_reader.py:329: UserWarning: Data Validation extension is not supported and will be removed\n",
            "  warn(msg)\n",
            "/usr/local/lib/python3.10/dist-packages/openpyxl/worksheet/_reader.py:329: UserWarning: Data Validation extension is not supported and will be removed\n",
            "  warn(msg)\n",
            "/usr/local/lib/python3.10/dist-packages/openpyxl/worksheet/_reader.py:329: UserWarning: Data Validation extension is not supported and will be removed\n",
            "  warn(msg)\n",
            "/usr/local/lib/python3.10/dist-packages/openpyxl/worksheet/_reader.py:329: UserWarning: Data Validation extension is not supported and will be removed\n",
            "  warn(msg)\n",
            "/usr/local/lib/python3.10/dist-packages/openpyxl/worksheet/_reader.py:329: UserWarning: Data Validation extension is not supported and will be removed\n",
            "  warn(msg)\n",
            "/usr/local/lib/python3.10/dist-packages/openpyxl/worksheet/_reader.py:329: UserWarning: Data Validation extension is not supported and will be removed\n",
            "  warn(msg)\n",
            "/usr/local/lib/python3.10/dist-packages/openpyxl/worksheet/_reader.py:329: UserWarning: Data Validation extension is not supported and will be removed\n",
            "  warn(msg)\n",
            "/usr/local/lib/python3.10/dist-packages/openpyxl/worksheet/_reader.py:329: UserWarning: Data Validation extension is not supported and will be removed\n",
            "  warn(msg)\n",
            "/usr/local/lib/python3.10/dist-packages/openpyxl/worksheet/_reader.py:329: UserWarning: Data Validation extension is not supported and will be removed\n",
            "  warn(msg)\n",
            "/usr/local/lib/python3.10/dist-packages/openpyxl/worksheet/_reader.py:329: UserWarning: Data Validation extension is not supported and will be removed\n",
            "  warn(msg)\n",
            "/usr/local/lib/python3.10/dist-packages/openpyxl/worksheet/_reader.py:329: UserWarning: Data Validation extension is not supported and will be removed\n",
            "  warn(msg)\n",
            "/usr/local/lib/python3.10/dist-packages/openpyxl/worksheet/_reader.py:329: UserWarning: Data Validation extension is not supported and will be removed\n",
            "  warn(msg)\n",
            "/usr/local/lib/python3.10/dist-packages/openpyxl/worksheet/_reader.py:329: UserWarning: Data Validation extension is not supported and will be removed\n",
            "  warn(msg)\n",
            "/usr/local/lib/python3.10/dist-packages/openpyxl/worksheet/_reader.py:329: UserWarning: Data Validation extension is not supported and will be removed\n",
            "  warn(msg)\n",
            "/usr/local/lib/python3.10/dist-packages/openpyxl/worksheet/_reader.py:329: UserWarning: Data Validation extension is not supported and will be removed\n",
            "  warn(msg)\n",
            "/usr/local/lib/python3.10/dist-packages/openpyxl/worksheet/_reader.py:329: UserWarning: Data Validation extension is not supported and will be removed\n",
            "  warn(msg)\n",
            "/usr/local/lib/python3.10/dist-packages/openpyxl/worksheet/_reader.py:329: UserWarning: Data Validation extension is not supported and will be removed\n",
            "  warn(msg)\n",
            "/usr/local/lib/python3.10/dist-packages/openpyxl/worksheet/_reader.py:329: UserWarning: Data Validation extension is not supported and will be removed\n",
            "  warn(msg)\n",
            "/usr/local/lib/python3.10/dist-packages/openpyxl/worksheet/_reader.py:329: UserWarning: Data Validation extension is not supported and will be removed\n",
            "  warn(msg)\n",
            "/usr/local/lib/python3.10/dist-packages/openpyxl/worksheet/_reader.py:329: UserWarning: Data Validation extension is not supported and will be removed\n",
            "  warn(msg)\n",
            "/usr/local/lib/python3.10/dist-packages/openpyxl/worksheet/_reader.py:329: UserWarning: Data Validation extension is not supported and will be removed\n",
            "  warn(msg)\n",
            "/usr/local/lib/python3.10/dist-packages/openpyxl/worksheet/_reader.py:329: UserWarning: Data Validation extension is not supported and will be removed\n",
            "  warn(msg)\n",
            "/usr/local/lib/python3.10/dist-packages/openpyxl/worksheet/_reader.py:329: UserWarning: Data Validation extension is not supported and will be removed\n",
            "  warn(msg)\n",
            "/usr/local/lib/python3.10/dist-packages/openpyxl/worksheet/_reader.py:329: UserWarning: Data Validation extension is not supported and will be removed\n",
            "  warn(msg)\n",
            "/usr/local/lib/python3.10/dist-packages/openpyxl/worksheet/_reader.py:329: UserWarning: Data Validation extension is not supported and will be removed\n",
            "  warn(msg)\n",
            "/usr/local/lib/python3.10/dist-packages/openpyxl/worksheet/_reader.py:329: UserWarning: Data Validation extension is not supported and will be removed\n",
            "  warn(msg)\n",
            "/usr/local/lib/python3.10/dist-packages/openpyxl/worksheet/_reader.py:329: UserWarning: Data Validation extension is not supported and will be removed\n",
            "  warn(msg)\n",
            "/usr/local/lib/python3.10/dist-packages/openpyxl/worksheet/_reader.py:329: UserWarning: Data Validation extension is not supported and will be removed\n",
            "  warn(msg)\n",
            "/usr/local/lib/python3.10/dist-packages/openpyxl/worksheet/_reader.py:329: UserWarning: Data Validation extension is not supported and will be removed\n",
            "  warn(msg)\n",
            "/usr/local/lib/python3.10/dist-packages/openpyxl/worksheet/_reader.py:329: UserWarning: Data Validation extension is not supported and will be removed\n",
            "  warn(msg)\n",
            "/usr/local/lib/python3.10/dist-packages/openpyxl/worksheet/_reader.py:329: UserWarning: Data Validation extension is not supported and will be removed\n",
            "  warn(msg)\n",
            "/usr/local/lib/python3.10/dist-packages/openpyxl/worksheet/_reader.py:329: UserWarning: Data Validation extension is not supported and will be removed\n",
            "  warn(msg)\n",
            "/usr/local/lib/python3.10/dist-packages/openpyxl/worksheet/_reader.py:329: UserWarning: Data Validation extension is not supported and will be removed\n",
            "  warn(msg)\n",
            "/usr/local/lib/python3.10/dist-packages/openpyxl/worksheet/_reader.py:329: UserWarning: Data Validation extension is not supported and will be removed\n",
            "  warn(msg)\n",
            "/usr/local/lib/python3.10/dist-packages/openpyxl/worksheet/_reader.py:329: UserWarning: Data Validation extension is not supported and will be removed\n",
            "  warn(msg)\n",
            "/usr/local/lib/python3.10/dist-packages/openpyxl/worksheet/_reader.py:329: UserWarning: Data Validation extension is not supported and will be removed\n",
            "  warn(msg)\n",
            "/usr/local/lib/python3.10/dist-packages/openpyxl/worksheet/_reader.py:329: UserWarning: Data Validation extension is not supported and will be removed\n",
            "  warn(msg)\n",
            "/usr/local/lib/python3.10/dist-packages/openpyxl/worksheet/_reader.py:329: UserWarning: Data Validation extension is not supported and will be removed\n",
            "  warn(msg)\n",
            "/usr/local/lib/python3.10/dist-packages/openpyxl/worksheet/_reader.py:329: UserWarning: Data Validation extension is not supported and will be removed\n",
            "  warn(msg)\n",
            "/usr/local/lib/python3.10/dist-packages/openpyxl/worksheet/_reader.py:329: UserWarning: Data Validation extension is not supported and will be removed\n",
            "  warn(msg)\n",
            "/usr/local/lib/python3.10/dist-packages/openpyxl/worksheet/_reader.py:329: UserWarning: Data Validation extension is not supported and will be removed\n",
            "  warn(msg)\n",
            "/usr/local/lib/python3.10/dist-packages/openpyxl/worksheet/_reader.py:329: UserWarning: Data Validation extension is not supported and will be removed\n",
            "  warn(msg)\n",
            "/usr/local/lib/python3.10/dist-packages/openpyxl/worksheet/_reader.py:329: UserWarning: Data Validation extension is not supported and will be removed\n",
            "  warn(msg)\n",
            "/usr/local/lib/python3.10/dist-packages/openpyxl/worksheet/_reader.py:329: UserWarning: Data Validation extension is not supported and will be removed\n",
            "  warn(msg)\n",
            "/usr/local/lib/python3.10/dist-packages/openpyxl/worksheet/_reader.py:329: UserWarning: Data Validation extension is not supported and will be removed\n",
            "  warn(msg)\n",
            "/usr/local/lib/python3.10/dist-packages/openpyxl/worksheet/_reader.py:329: UserWarning: Data Validation extension is not supported and will be removed\n",
            "  warn(msg)\n",
            "/usr/local/lib/python3.10/dist-packages/openpyxl/worksheet/_reader.py:329: UserWarning: Data Validation extension is not supported and will be removed\n",
            "  warn(msg)\n",
            "/usr/local/lib/python3.10/dist-packages/openpyxl/worksheet/_reader.py:329: UserWarning: Data Validation extension is not supported and will be removed\n",
            "  warn(msg)\n",
            "/usr/local/lib/python3.10/dist-packages/openpyxl/worksheet/_reader.py:329: UserWarning: Data Validation extension is not supported and will be removed\n",
            "  warn(msg)\n",
            "/usr/local/lib/python3.10/dist-packages/openpyxl/worksheet/_reader.py:329: UserWarning: Data Validation extension is not supported and will be removed\n",
            "  warn(msg)\n"
          ]
        }
      ]
    },
    {
      "cell_type": "code",
      "source": [
        "df1=[]\n",
        "for i in DataFramesNorocci:\n",
        "\n",
        "  Archivo=pd.DataFrame(i)\n",
        "  df1.append(Archivo)"
      ],
      "metadata": {
        "id": "e5EEuhAgGUas"
      },
      "id": "e5EEuhAgGUas",
      "execution_count": 155,
      "outputs": []
    },
    {
      "cell_type": "code",
      "source": [
        "\n",
        "\n",
        "Datos2=pd.concat(df1, ignore_index=True, axis=0, join='inner',keys='Unnamed: 0')\n",
        "\n",
        "Datos2= Datos1.dropna(subset='Unnamed: 1')"
      ],
      "metadata": {
        "id": "B3QpNiN_GXl0"
      },
      "id": "B3QpNiN_GXl0",
      "execution_count": 156,
      "outputs": []
    },
    {
      "cell_type": "code",
      "source": [
        "print(Datos2.shape)"
      ],
      "metadata": {
        "colab": {
          "base_uri": "https://localhost:8080/"
        },
        "id": "AaqGaaYPGZGE",
        "outputId": "afaf2b74-0b60-466f-d91e-047338aa6b0d"
      },
      "id": "AaqGaaYPGZGE",
      "execution_count": 157,
      "outputs": [
        {
          "output_type": "stream",
          "name": "stdout",
          "text": [
            "(1483, 163)\n"
          ]
        }
      ]
    },
    {
      "cell_type": "code",
      "source": [
        "Datos2.to_csv('/content/drive/MyDrive/Total/Total/CTE_NOROCCI/Norocci.csv')"
      ],
      "metadata": {
        "id": "kL8GUzKHbhIc"
      },
      "id": "kL8GUzKHbhIc",
      "execution_count": 158,
      "outputs": []
    }
  ],
  "metadata": {
    "kernelspec": {
      "display_name": "Python 3 (ipykernel)",
      "language": "python",
      "name": "python3"
    },
    "language_info": {
      "codemirror_mode": {
        "name": "ipython",
        "version": 3
      },
      "file_extension": ".py",
      "mimetype": "text/x-python",
      "name": "python",
      "nbconvert_exporter": "python",
      "pygments_lexer": "ipython3",
      "version": "3.10.4"
    },
    "colab": {
      "provenance": [],
      "include_colab_link": true
    }
  },
  "nbformat": 4,
  "nbformat_minor": 5
}